{
  "cells": [
    {
      "cell_type": "code",
      "source": [
        "#Add the libraries you will use.\n",
        "import pandas as pd"
      ],
      "metadata": {
        "id": "mhjq6jP4yTWp"
      },
      "execution_count": 1,
      "outputs": []
    },
    {
      "cell_type": "code",
      "execution_count": 2,
      "metadata": {
        "id": "3qaPvbhoUjIp"
      },
      "outputs": [],
      "source": [
        "#Create a system where you can enter Student Information (Name, Surname, School Number, exam score) and keep this information.\n",
        "class LectureStatus():\n",
        "  def __init__(self, lecture, stu_name, stu_surname, stu_number, points):\n",
        "    self.lecture = lecture\n",
        "    self.stu_name = stu_name\n",
        "    self.stu_surname = stu_surname\n",
        "    self.stu_number = stu_number\n",
        "    self.points = points\n",
        "    self.grade = 0\n",
        "    self.status = 0\n",
        "\n",
        "#Converting scores to letter grades, determining pass/fail status\n",
        "  def compute_grade(self):\n",
        "    points = self.points\n",
        "    if points >= 90:\n",
        "      self.grade = 'A' \n",
        "      self.status = 'Passed'\n",
        "    elif points >= 60:\n",
        "      self.grade = 'B' \n",
        "      self.status = 'Passed'\n",
        "    elif points >= 40:\n",
        "      self.grade = 'C' \n",
        "      self.status = 'Passed'\n",
        "    elif points >= 20:\n",
        "      self.grade = 'D' \n",
        "      self.status = 'Failed'\n",
        "    else:\n",
        "      self.grade ='F'\n",
        "      self.status = 'Failed'\n",
        "\n",
        "#Result message\n",
        "  def result_message(self):\n",
        "    if (self.grade <= 'C'):\n",
        "      print(f\"\"\"Congratulations, you passed! {self.stu_name} scored {self.points}/100 points in {self.lecture} and got the letter {self.grade}.\"\"\")\n",
        "    else:\n",
        "      print(f\"\"\" You failed the {self.lecture}! Try again next semester {self.stu_name} scored {self.points}/100 points in {self.lecture} and got the letter {self.grade}.\"\"\")\n",
        "\n",
        "#Result summary\n",
        "  def results(self):\n",
        "    \n",
        "    results = []\n",
        "    results.append((self.stu_name, self.lecture,self.grade, self.status))\n",
        "    print(results)"
      ]
    },
    {
      "cell_type": "code",
      "source": [
        "#Creating Dataframe with Child class\n",
        "class Students(LectureStatus):\n",
        "    def __init__(self, student_list = []):\n",
        "        self.student_list = student_list\n",
        "    \n",
        "    #creating dataframe\n",
        "    def df_create(self):\n",
        "        student_dict = dict()\n",
        "        id = 1\n",
        "        for student in self.student_list:\n",
        "            stu = [student.stu_name, student.stu_surname, student.stu_number, student.lecture, student.points, student.grade, student.status]\n",
        "            student_dict[id] = stu\n",
        "            id += 1\n",
        "        df = pd.DataFrame.from_dict(student_dict, orient = 'index', columns = ['Name', 'Surname', 'Number', 'Lecture', 'Points', 'Grade', 'Status'])\n",
        "        return df"
      ],
      "metadata": {
        "id": "1DY0RRpfyc9a"
      },
      "execution_count": 3,
      "outputs": []
    },
    {
      "cell_type": "code",
      "execution_count": 4,
      "metadata": {
        "colab": {
          "base_uri": "https://localhost:8080/"
        },
        "id": "35938uMxcOro",
        "outputId": "5fbd70b9-0ed3-407f-c277-4425e7e96eca"
      },
      "outputs": [
        {
          "output_type": "stream",
          "name": "stdout",
          "text": [
            " You failed the Math! Try again next semester Ben scored 16/100 points in Math and got the letter F.\n",
            "[('Ben', 'Math', 'F', 'Failed')]\n"
          ]
        }
      ],
      "source": [
        "#student 1\n",
        "stu1 = LectureStatus('Math','Ben', 'Walt', 12345678, 16)\n",
        "stu1.compute_grade()\n",
        "stu1.result_message()\n",
        "stu1.results()\n"
      ]
    },
    {
      "cell_type": "code",
      "execution_count": 5,
      "metadata": {
        "colab": {
          "base_uri": "https://localhost:8080/"
        },
        "id": "aVcVidFbunQb",
        "outputId": "1ad391b5-9a63-4574-c6a3-5d926e749b11"
      },
      "outputs": [
        {
          "output_type": "stream",
          "name": "stdout",
          "text": [
            "Congratulations, you passed! John scored 66/100 points in Math and got the letter B.\n",
            "[('John', 'Math', 'B', 'Passed')]\n"
          ]
        }
      ],
      "source": [
        "#student 2\n",
        "stu2 = LectureStatus('Math','John', 'Smith', 11234567, 66)\n",
        "stu2.compute_grade()\n",
        "stu2.result_message()\n",
        "stu2.results()"
      ]
    },
    {
      "cell_type": "code",
      "execution_count": 6,
      "metadata": {
        "colab": {
          "base_uri": "https://localhost:8080/"
        },
        "id": "2XtZUPyRQ-VL",
        "outputId": "dc8cc737-ee24-49f1-d398-1f9fd05ba72b"
      },
      "outputs": [
        {
          "output_type": "stream",
          "name": "stdout",
          "text": [
            "Congratulations, you passed! Anna scored 88/100 points in Chemistry and got the letter B.\n",
            "[('Anna', 'Chemistry', 'B', 'Passed')]\n"
          ]
        }
      ],
      "source": [
        "#student 3\n",
        "stu3 = LectureStatus('Chemistry','Anna', 'Barbez', 11123456, 88)\n",
        "stu3.compute_grade()\n",
        "stu3.result_message()\n",
        "stu3.results()"
      ]
    },
    {
      "cell_type": "code",
      "execution_count": 7,
      "metadata": {
        "colab": {
          "base_uri": "https://localhost:8080/"
        },
        "id": "4V9TZgYwRZIZ",
        "outputId": "b9d3ab85-81c7-40ce-915b-35d534765f86"
      },
      "outputs": [
        {
          "output_type": "stream",
          "name": "stdout",
          "text": [
            " You failed the History! Try again next semester Ellen scored 26/100 points in History and got the letter D.\n",
            "[('Ellen', 'History', 'D', 'Failed')]\n"
          ]
        }
      ],
      "source": [
        "#student 4\n",
        "stu4 = LectureStatus('History','Ellen', 'Poet', 11112345, 26)\n",
        "stu4.compute_grade()\n",
        "stu4.result_message()\n",
        "stu4.results()"
      ]
    },
    {
      "cell_type": "code",
      "source": [
        "#Keep students in array\n",
        "student_arr = [stu1, stu2, stu3, stu4]\n",
        "classroom = Students(student_arr)\n",
        "df_classroom = classroom.df_create()\n",
        "#Print dataframe\n",
        "df_classroom"
      ],
      "metadata": {
        "colab": {
          "base_uri": "https://localhost:8080/",
          "height": 175
        },
        "id": "at4m5dray4Wn",
        "outputId": "e151093b-a00f-4823-ffdc-2783f13f6955"
      },
      "execution_count": 8,
      "outputs": [
        {
          "output_type": "execute_result",
          "data": {
            "text/plain": [
              "    Name Surname    Number    Lecture  Points Grade  Status\n",
              "1    Ben    Walt  12345678       Math      16     F  Failed\n",
              "2   John   Smith  11234567       Math      66     B  Passed\n",
              "3   Anna  Barbez  11123456  Chemistry      88     B  Passed\n",
              "4  Ellen    Poet  11112345    History      26     D  Failed"
            ],
            "text/html": [
              "\n",
              "  <div id=\"df-83fe6be7-1017-4e04-afe0-fe91b621a97a\">\n",
              "    <div class=\"colab-df-container\">\n",
              "      <div>\n",
              "<style scoped>\n",
              "    .dataframe tbody tr th:only-of-type {\n",
              "        vertical-align: middle;\n",
              "    }\n",
              "\n",
              "    .dataframe tbody tr th {\n",
              "        vertical-align: top;\n",
              "    }\n",
              "\n",
              "    .dataframe thead th {\n",
              "        text-align: right;\n",
              "    }\n",
              "</style>\n",
              "<table border=\"1\" class=\"dataframe\">\n",
              "  <thead>\n",
              "    <tr style=\"text-align: right;\">\n",
              "      <th></th>\n",
              "      <th>Name</th>\n",
              "      <th>Surname</th>\n",
              "      <th>Number</th>\n",
              "      <th>Lecture</th>\n",
              "      <th>Points</th>\n",
              "      <th>Grade</th>\n",
              "      <th>Status</th>\n",
              "    </tr>\n",
              "  </thead>\n",
              "  <tbody>\n",
              "    <tr>\n",
              "      <th>1</th>\n",
              "      <td>Ben</td>\n",
              "      <td>Walt</td>\n",
              "      <td>12345678</td>\n",
              "      <td>Math</td>\n",
              "      <td>16</td>\n",
              "      <td>F</td>\n",
              "      <td>Failed</td>\n",
              "    </tr>\n",
              "    <tr>\n",
              "      <th>2</th>\n",
              "      <td>John</td>\n",
              "      <td>Smith</td>\n",
              "      <td>11234567</td>\n",
              "      <td>Math</td>\n",
              "      <td>66</td>\n",
              "      <td>B</td>\n",
              "      <td>Passed</td>\n",
              "    </tr>\n",
              "    <tr>\n",
              "      <th>3</th>\n",
              "      <td>Anna</td>\n",
              "      <td>Barbez</td>\n",
              "      <td>11123456</td>\n",
              "      <td>Chemistry</td>\n",
              "      <td>88</td>\n",
              "      <td>B</td>\n",
              "      <td>Passed</td>\n",
              "    </tr>\n",
              "    <tr>\n",
              "      <th>4</th>\n",
              "      <td>Ellen</td>\n",
              "      <td>Poet</td>\n",
              "      <td>11112345</td>\n",
              "      <td>History</td>\n",
              "      <td>26</td>\n",
              "      <td>D</td>\n",
              "      <td>Failed</td>\n",
              "    </tr>\n",
              "  </tbody>\n",
              "</table>\n",
              "</div>\n",
              "      <button class=\"colab-df-convert\" onclick=\"convertToInteractive('df-83fe6be7-1017-4e04-afe0-fe91b621a97a')\"\n",
              "              title=\"Convert this dataframe to an interactive table.\"\n",
              "              style=\"display:none;\">\n",
              "        \n",
              "  <svg xmlns=\"http://www.w3.org/2000/svg\" height=\"24px\"viewBox=\"0 0 24 24\"\n",
              "       width=\"24px\">\n",
              "    <path d=\"M0 0h24v24H0V0z\" fill=\"none\"/>\n",
              "    <path d=\"M18.56 5.44l.94 2.06.94-2.06 2.06-.94-2.06-.94-.94-2.06-.94 2.06-2.06.94zm-11 1L8.5 8.5l.94-2.06 2.06-.94-2.06-.94L8.5 2.5l-.94 2.06-2.06.94zm10 10l.94 2.06.94-2.06 2.06-.94-2.06-.94-.94-2.06-.94 2.06-2.06.94z\"/><path d=\"M17.41 7.96l-1.37-1.37c-.4-.4-.92-.59-1.43-.59-.52 0-1.04.2-1.43.59L10.3 9.45l-7.72 7.72c-.78.78-.78 2.05 0 2.83L4 21.41c.39.39.9.59 1.41.59.51 0 1.02-.2 1.41-.59l7.78-7.78 2.81-2.81c.8-.78.8-2.07 0-2.86zM5.41 20L4 18.59l7.72-7.72 1.47 1.35L5.41 20z\"/>\n",
              "  </svg>\n",
              "      </button>\n",
              "      \n",
              "  <style>\n",
              "    .colab-df-container {\n",
              "      display:flex;\n",
              "      flex-wrap:wrap;\n",
              "      gap: 12px;\n",
              "    }\n",
              "\n",
              "    .colab-df-convert {\n",
              "      background-color: #E8F0FE;\n",
              "      border: none;\n",
              "      border-radius: 50%;\n",
              "      cursor: pointer;\n",
              "      display: none;\n",
              "      fill: #1967D2;\n",
              "      height: 32px;\n",
              "      padding: 0 0 0 0;\n",
              "      width: 32px;\n",
              "    }\n",
              "\n",
              "    .colab-df-convert:hover {\n",
              "      background-color: #E2EBFA;\n",
              "      box-shadow: 0px 1px 2px rgba(60, 64, 67, 0.3), 0px 1px 3px 1px rgba(60, 64, 67, 0.15);\n",
              "      fill: #174EA6;\n",
              "    }\n",
              "\n",
              "    [theme=dark] .colab-df-convert {\n",
              "      background-color: #3B4455;\n",
              "      fill: #D2E3FC;\n",
              "    }\n",
              "\n",
              "    [theme=dark] .colab-df-convert:hover {\n",
              "      background-color: #434B5C;\n",
              "      box-shadow: 0px 1px 3px 1px rgba(0, 0, 0, 0.15);\n",
              "      filter: drop-shadow(0px 1px 2px rgba(0, 0, 0, 0.3));\n",
              "      fill: #FFFFFF;\n",
              "    }\n",
              "  </style>\n",
              "\n",
              "      <script>\n",
              "        const buttonEl =\n",
              "          document.querySelector('#df-83fe6be7-1017-4e04-afe0-fe91b621a97a button.colab-df-convert');\n",
              "        buttonEl.style.display =\n",
              "          google.colab.kernel.accessAllowed ? 'block' : 'none';\n",
              "\n",
              "        async function convertToInteractive(key) {\n",
              "          const element = document.querySelector('#df-83fe6be7-1017-4e04-afe0-fe91b621a97a');\n",
              "          const dataTable =\n",
              "            await google.colab.kernel.invokeFunction('convertToInteractive',\n",
              "                                                     [key], {});\n",
              "          if (!dataTable) return;\n",
              "\n",
              "          const docLinkHtml = 'Like what you see? Visit the ' +\n",
              "            '<a target=\"_blank\" href=https://colab.research.google.com/notebooks/data_table.ipynb>data table notebook</a>'\n",
              "            + ' to learn more about interactive tables.';\n",
              "          element.innerHTML = '';\n",
              "          dataTable['output_type'] = 'display_data';\n",
              "          await google.colab.output.renderOutput(dataTable, element);\n",
              "          const docLink = document.createElement('div');\n",
              "          docLink.innerHTML = docLinkHtml;\n",
              "          element.appendChild(docLink);\n",
              "        }\n",
              "      </script>\n",
              "    </div>\n",
              "  </div>\n",
              "  "
            ]
          },
          "metadata": {},
          "execution_count": 8
        }
      ]
    },
    {
      "cell_type": "code",
      "execution_count": null,
      "metadata": {
        "id": "ONAolyr2NBT3"
      },
      "outputs": [],
      "source": [
        "#Creating excel file for dataframe\n",
        "writer = pd.ExcelWriter('status_excel.xlsx')"
      ]
    },
    {
      "cell_type": "code",
      "execution_count": null,
      "metadata": {
        "colab": {
          "base_uri": "https://localhost:8080/"
        },
        "id": "PjCJWFbaNGdQ",
        "outputId": "4ee896a8-6290-4e7d-86c4-b7715453d613"
      },
      "outputs": [
        {
          "output_type": "stream",
          "name": "stdout",
          "text": [
            "DataFrame is exported successfully to 'converted-to-excel.xlsx' Excel File.\n"
          ]
        }
      ],
      "source": [
        "#Write dataframe to excel \n",
        "df_classroom.to_excel(writer)\n",
        " \n",
        "#save excel\n",
        "writer.save()\n",
        "print(\"DataFrame is exported successfully to 'converted-to-excel.xlsx' Excel File.\")\n"
      ]
    }
  ],
  "metadata": {
    "colab": {
      "collapsed_sections": [],
      "provenance": []
    },
    "kernelspec": {
      "display_name": "Python 3",
      "name": "python3"
    },
    "language_info": {
      "name": "python"
    }
  },
  "nbformat": 4,
  "nbformat_minor": 0
}